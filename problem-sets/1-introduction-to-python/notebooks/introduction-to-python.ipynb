{
 "cells": [
  {
   "cell_type": "markdown",
   "metadata": {},
   "source": [
    "# Python List"
   ]
  },
  {
   "cell_type": "markdown",
   "metadata": {},
   "source": [
    "#### Slicing and dicing \n",
    "Selecting single values from a list is just one part of the story. It's also possible to slice your list, which means selecting multiple elements from your list. Use the following syntax:\n",
    "\n",
    "    my_list[start:end]\n",
    "\n",
    "However, ***it's also possible not to specify these indexes***. If you don't specify the begin index, Python figures out that you want to start your slice at the beginning of your list. If you don't specify the end index, the slice will go all the way to the last element of your list. To experiment with this:"
   ]
  },
  {
   "cell_type": "code",
   "execution_count": 1,
   "metadata": {},
   "outputs": [
    {
     "name": "stdout",
     "output_type": "stream",
     "text": [
      "['a', 'b']\n",
      "['c', 'd']\n",
      "['a', 'b', 'c', 'd']\n"
     ]
    }
   ],
   "source": [
    "x = [\"a\", \"b\", \"c\", \"d\"]\n",
    "\n",
    "print(x[:2])\n",
    "print(x[2:])\n",
    "print(x[:])"
   ]
  },
  {
   "cell_type": "code",
   "execution_count": 2,
   "metadata": {},
   "outputs": [
    {
     "name": "stdout",
     "output_type": "stream",
     "text": [
      "['hallway', 11.25, 'kitchen', 18.0, 'living room', 20.0]\n",
      "['bedroom', 10.75, 'bathroom', 9.5]\n"
     ]
    }
   ],
   "source": [
    "# Create the areas list\n",
    "areas = [\n",
    "    \"hallway\",\n",
    "    11.25,\n",
    "    \"kitchen\",\n",
    "    18.0,\n",
    "    \"living room\",\n",
    "    20.0,\n",
    "    \"bedroom\",\n",
    "    10.75,\n",
    "    \"bathroom\",\n",
    "    9.50,\n",
    "]\n",
    "\n",
    "# Use slicing to create a list, downstairs, that contains the first 6 elements of areas\n",
    "downstairs = areas[0:6]\n",
    "\n",
    "# Alternative slicing to create a new variable, upstairs, that contains the last 4 elements of areas\n",
    "upstairs = areas[-4:]\n",
    "\n",
    "# Print out downstairs and upstairs\n",
    "print(f\"{downstairs}\\n{upstairs}\")"
   ]
  },
  {
   "cell_type": "markdown",
   "metadata": {},
   "source": [
    "#### Replace list elements \n",
    "Replacing list elements is pretty easy. Simply subset the list and assign new values to the subset. You can select single elements or you can change entire list slices at once."
   ]
  },
  {
   "cell_type": "code",
   "execution_count": 3,
   "metadata": {},
   "outputs": [
    {
     "name": "stdout",
     "output_type": "stream",
     "text": [
      "['hallway', 11.25, 'kitchen', 18.0, 'chill zone', 20.0, 'bedroom', 10.75, 'bathroom', 10.5]\n"
     ]
    }
   ],
   "source": [
    "# Update the area of the bathroom area to be 10.50 square meters instead of 9.50\n",
    "areas[-1] = 10.50\n",
    "\n",
    "# Change \"living room\" to \"chill zone\"\n",
    "areas[-6] = \"chill zone\"\n",
    "\n",
    "# Print the new list\n",
    "print(areas)"
   ]
  },
  {
   "cell_type": "markdown",
   "metadata": {},
   "source": [
    "### Extend a list \n",
    "If you can change elements in a list, you sure want to be able to add elements to it, right? You can use the + operator:"
   ]
  },
  {
   "cell_type": "code",
   "execution_count": 4,
   "metadata": {},
   "outputs": [
    {
     "name": "stdout",
     "output_type": "stream",
     "text": [
      "['hallway', 11.25, 'kitchen', 18.0, 'chill zone', 20.0, 'bedroom', 10.75, 'bathroom', 10.5, 'poolhouse', 24.5]\n"
     ]
    }
   ],
   "source": [
    "# Add poolhouse data to areas, new list is areas_1\n",
    "areas = areas + [\"poolhouse\", 24.5]\n",
    "\n",
    "# Print the new added element in the list\n",
    "print(areas)"
   ]
  },
  {
   "cell_type": "markdown",
   "metadata": {},
   "source": [
    "### Inner workings of lists \n",
    "The Python code below already creates a list with the name areas and a copy named areas_copy_without_list_func. Next, the first element in the areas_copy_without_list_func list is changed and the areas list is printed out. If you run the code you'll see that, although you've changed areas_copy_without_list_func, the change also takes effect in the areas list. That's because areas and areas_copy **point** to the same list.\n",
    "\n",
    "***If you want to prevent changes*** in areas_copy from also taking effect in areas, you'll have to do a more explicit copy of the areas list. You can do this with **list()** or by using **[:]**."
   ]
  },
  {
   "cell_type": "code",
   "execution_count": 5,
   "metadata": {},
   "outputs": [
    {
     "name": "stdout",
     "output_type": "stream",
     "text": [
      "areas: [2.0, 18.0, 20.0, 10.75, 9.5]\n",
      "areas_copy: [11.25, 18.0, 20.0, 10.75, 9.5]\n"
     ]
    }
   ],
   "source": [
    "# Create list areas\n",
    "areas = [11.25, 18.0, 20.0, 10.75, 9.50]\n",
    "\n",
    "# Create areas_copy with list() function or [:]\n",
    "areas_copy = areas[:]\n",
    "\n",
    "# Create areas_copy\n",
    "areas_copy_without_list_func = areas\n",
    "\n",
    "# Change areas_copy_without_list_func\n",
    "areas_copy_without_list_func[0] = 2.0\n",
    "\n",
    "# Print areas and areas_copy\n",
    "print(f\"areas: {areas}\")\n",
    "print(f\"areas_copy: {areas_copy}\")"
   ]
  },
  {
   "cell_type": "markdown",
   "metadata": {},
   "source": [
    "#### List methods \n",
    "- **index()**, to get the index of the first element of a list that matches its input and\n",
    "- **count()**, to get the number of times an element appears in a list.\n",
    "- **append()**, that adds an element to the list it is called on,\n",
    "- **remove()**, that removes the first element of a list that matches the input, and\n",
    "- **reverse()**, that reverses the order of the elements in the list it is called on"
   ]
  },
  {
   "cell_type": "code",
   "execution_count": 6,
   "metadata": {},
   "outputs": [
    {
     "name": "stdout",
     "output_type": "stream",
     "text": [
      "index of 20: 2\n",
      "occurrences of 9.50: 1\n",
      "appended: [11.25, 18.0, 20.0, 10.75, 9.5, 10]\n",
      "reversed: [10, 9.5, 10.75, 20.0, 18.0, 11.25]\n"
     ]
    }
   ],
   "source": [
    "numbers = [11.25, 18.0, 20.0, 10.75, 9.50]\n",
    "\n",
    "# Print out the index of the element 20.0\n",
    "print(f\"index of 20: {numbers.index(20.0)}\")\n",
    "\n",
    "# Print out how often 9.50 appears in numbers\n",
    "print(f\"occurrences of 9.50: {numbers.count(9.5)}\")\n",
    "\n",
    "# Use append and print the list\n",
    "numbers.append(10)\n",
    "print(f\"appended: {numbers}\")\n",
    "\n",
    "# Reverse the orders of the elements and print the list\n",
    "numbers.reverse()\n",
    "print(f\"reversed: {numbers}\")"
   ]
  },
  {
   "cell_type": "markdown",
   "metadata": {},
   "source": [
    "# NumPy"
   ]
  },
  {
   "cell_type": "markdown",
   "metadata": {},
   "source": [
    "#### NumPy Array \n",
    "In this chapter, we're going to dive into the world of baseball. Along the way, you'll get comfortable with the basics of NumPy, a powerful package to do data science.\n",
    "\n",
    "A list baseball has already been defined below, representing the height of some baseball players in centimeters."
   ]
  },
  {
   "cell_type": "code",
   "execution_count": 7,
   "metadata": {},
   "outputs": [
    {
     "name": "stdout",
     "output_type": "stream",
     "text": [
      "<class 'numpy.ndarray'>\n"
     ]
    }
   ],
   "source": [
    "# Import the numpy package as np\n",
    "import numpy as np\n",
    "\n",
    "# Create list baseball\n",
    "baseball = [180, 215, 210, 210, 188, 176, 209, 200]\n",
    "\n",
    "# Create a numpy array from baseball: np_baseball\n",
    "np_baseball = np.array(baseball)\n",
    "\n",
    "# Print out type of np_baseball\n",
    "print(type(np_baseball))"
   ]
  },
  {
   "cell_type": "markdown",
   "metadata": {},
   "source": [
    "NumPy is great for doing vector arithmetic. If you compare its functionality with regular Python lists, however, some things have changed.\n",
    "\n",
    "First of all, NumPy arrays cannot contain elements with different types. If you try to build such a list, some of the elements' types are changed to end up with a homogeneous list. This is known as type **coercion**.\n",
    "\n",
    "Second, the typical arithmetic operators, such as +, -, * and / have a different meaning for regular Python lists and NumPy arrays.\n",
    "\n",
    "Have a look at this line of code:"
   ]
  },
  {
   "cell_type": "code",
   "execution_count": 8,
   "metadata": {},
   "outputs": [
    {
     "data": {
      "text/plain": [
       "array([4, 5, 2])"
      ]
     },
     "execution_count": 8,
     "metadata": {},
     "output_type": "execute_result"
    }
   ],
   "source": [
    "np.array([True, 1, 2]) + np.array([3, 4, False])"
   ]
  },
  {
   "cell_type": "markdown",
   "metadata": {},
   "source": [
    "Python lists and NumPy arrays sometimes behave differently. Luckily, there are still certainties in this world. For example, subsetting (using the square bracket notation on lists or arrays) works exactly the same."
   ]
  },
  {
   "cell_type": "code",
   "execution_count": 9,
   "metadata": {},
   "outputs": [
    {
     "data": {
      "text/plain": [
       "array([180, 215, 210])"
      ]
     },
     "execution_count": 9,
     "metadata": {},
     "output_type": "execute_result"
    }
   ],
   "source": [
    "# np_baseball = [180, 215, 210, 210, 188, 176, 209, 200]\n",
    "np_baseball[:3]"
   ]
  },
  {
   "cell_type": "markdown",
   "metadata": {},
   "source": [
    "#### 2D NumPy Array \n",
    "Before working on the actual data, let's try to create a 2D NumPy array from a small list of lists.\n",
    "\n",
    "In this exercise, baseball is a list of lists. The main list contains 4 elements. Each of these elements is a list containing the height and the weight of 4 baseball players, in this order. "
   ]
  },
  {
   "cell_type": "code",
   "execution_count": 10,
   "metadata": {},
   "outputs": [
    {
     "name": "stdout",
     "output_type": "stream",
     "text": [
      "<class 'numpy.ndarray'>\n",
      "(rows, columns): (4, 2)\n"
     ]
    }
   ],
   "source": [
    "# Create baseball, a list of lists\n",
    "baseball_2d_list = [[180, 78.4], [215, 102.7], [210, 98.5], [188, 75.2]]\n",
    "\n",
    "# Create a 2D numpy array from baseball: np_baseball\n",
    "np_baseball_2d_list = np.array(baseball_2d_list)\n",
    "\n",
    "# Print out the type of np_baseball\n",
    "print(type(np_baseball_2d_list))\n",
    "\n",
    "# Print out the shape of np_baseball\n",
    "print(f\"(rows, columns): {np_baseball_2d_list.shape}\")"
   ]
  },
  {
   "cell_type": "markdown",
   "metadata": {},
   "source": [
    "#### Transforming Baseball Data \n",
    "The MLB was, again, very helpful and passed you the data in a different structure, a Python list of lists. In this list of lists, each sublist represents the height and weight of a single baseball player. The name of this embedded list is baseball"
   ]
  },
  {
   "cell_type": "code",
   "execution_count": 11,
   "metadata": {},
   "outputs": [
    {
     "name": "stdout",
     "output_type": "stream",
     "text": [
      "(rows, columns): (1015, 2)\n"
     ]
    }
   ],
   "source": [
    "import pandas as pd\n",
    "\n",
    "df_baseball = pd.read_csv(\"../data/baseball.csv\")\n",
    "\n",
    "# Select the height and weight column from the DataFrame and convert to 2D Array\n",
    "baseball_2d = df_baseball[[\"Height\", \"Weight\"]].values\n",
    "\n",
    "# Create a 2D numpy array from baseball_2d: np_baseball\n",
    "np_baseball = np.array(baseball_2d)\n",
    "\n",
    "# Print out the shape of np_baseball\n",
    "print(f\"(rows, columns): {np_baseball.shape}\")"
   ]
  },
  {
   "cell_type": "markdown",
   "metadata": {},
   "source": [
    "#### Subsetting 2D NumPy Arrays \n",
    "If your 2D numpy array has a regular structure, i.e. each row and column has a fixed number of values, complicated ways of subsetting become very easy. Have a look at the code below where the elements \"a\" and \"c\" are extracted from a list of lists.\n",
    "\n",
    "For regular Python lists, this is a real pain. For 2D numpy arrays, however, it's pretty intuitive! The indexes before the comma refer to the rows, while those after the comma refer to the columns. The : is for slicing; in this example, it tells Python to include all rows."
   ]
  },
  {
   "cell_type": "code",
   "execution_count": 12,
   "metadata": {},
   "outputs": [
    {
     "name": "stdout",
     "output_type": "stream",
     "text": [
      "['a', 'c']\n",
      "['a' 'c']\n"
     ]
    }
   ],
   "source": [
    "# regular list of lists\n",
    "x = [[\"a\", \"b\"], [\"c\", \"d\"]]\n",
    "print([x[0][0], x[1][0]])\n",
    "\n",
    "# numpy\n",
    "np_x = np.array(x)\n",
    "print(np_x[:, 0])"
   ]
  },
  {
   "cell_type": "code",
   "execution_count": 13,
   "metadata": {},
   "outputs": [
    {
     "name": "stdout",
     "output_type": "stream",
     "text": [
      "50th row: [ 70 195]\n",
      "entire second column (weight col.): [180 215 210 ... 205 190 195]\n",
      "124th player's height: 75\n"
     ]
    }
   ],
   "source": [
    "# Print out the 50th row of np_baseball\n",
    "print(f\"50th row: {np_baseball[49, :]}\")\n",
    "\n",
    "# Print the entire second column of np_baseball: np_weight_lb\n",
    "print(f\"entire second column (weight col.): {np_baseball[:, 1]}\")\n",
    "\n",
    "# Print out height of 124th player\n",
    "print(f\"124th player's height: {np_baseball[123, 0]}\")"
   ]
  },
  {
   "cell_type": "markdown",
   "metadata": {},
   "source": [
    "#### NumPy: Basic Statistics "
   ]
  },
  {
   "cell_type": "code",
   "execution_count": 14,
   "metadata": {},
   "outputs": [
    {
     "name": "stdout",
     "output_type": "stream",
     "text": [
      "mean: 73.6896551724138\n",
      "median: 74.0\n",
      "standard deviation: 2.312791881046546\n",
      "correlation: [[1.         0.53153932]\n",
      " [0.53153932 1.        ]]\n"
     ]
    }
   ],
   "source": [
    "# Create np_height_in from np_baseball\n",
    "np_height_in = np_baseball[:, 0]\n",
    "\n",
    "# Print out the mean of np_height_in\n",
    "print(f\"mean: {np.mean(np_height_in)}\")\n",
    "\n",
    "# Print out the median of np_height_in\n",
    "print(f\"median: {np.median(np_height_in)}\")\n",
    "\n",
    "# Print out the standard deviation of np_height_in\n",
    "print(f\"standard deviation: {np.std(np_height_in)}\")\n",
    "\n",
    "# Print out correlation between first and second column of baseball data\n",
    "print(f\"correlation: {np.corrcoef(np_baseball[:, 0], np_baseball[:, 1])}\")"
   ]
  },
  {
   "cell_type": "markdown",
   "metadata": {},
   "source": [
    "#### Compare Arrays "
   ]
  },
  {
   "cell_type": "code",
   "execution_count": 15,
   "metadata": {},
   "outputs": [
    {
     "name": "stdout",
     "output_type": "stream",
     "text": [
      "[ True  True False False]\n",
      "[False  True  True False]\n",
      "[False  True False  True]\n",
      "[False False False  True]\n"
     ]
    }
   ],
   "source": [
    "my_house = np.array([18.0, 20.0, 10.75, 9.50])\n",
    "your_house = np.array([14.0, 24.0, 14.25, 9.0])\n",
    "\n",
    "# my_house greater than or equal to 18\n",
    "print(my_house >= 18)\n",
    "\n",
    "# my_house less than your_house\n",
    "print(my_house < your_house)\n",
    "\n",
    "# my_house greater than 18.5 or smaller than 10\n",
    "print(np.logical_or(my_house > 18.5, my_house < 10))\n",
    "\n",
    "# Both my_house and your_house smaller than 11\n",
    "print(np.logical_and(my_house < 11, your_house < 11))"
   ]
  }
 ],
 "metadata": {
  "kernelspec": {
   "display_name": "data-analytics",
   "language": "python",
   "name": "python3"
  },
  "language_info": {
   "codemirror_mode": {
    "name": "ipython",
    "version": 3
   },
   "file_extension": ".py",
   "mimetype": "text/x-python",
   "name": "python",
   "nbconvert_exporter": "python",
   "pygments_lexer": "ipython3",
   "version": "3.11.4"
  },
  "orig_nbformat": 4
 },
 "nbformat": 4,
 "nbformat_minor": 2
}
